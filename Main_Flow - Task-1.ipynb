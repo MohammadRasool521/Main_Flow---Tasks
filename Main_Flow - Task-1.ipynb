{
 "cells": [
  {
   "cell_type": "code",
   "execution_count": 8,
   "metadata": {},
   "outputs": [
    {
     "name": "stdout",
     "output_type": "stream",
     "text": [
      "[2, 9.0, True, 'str', [0, 1, 2], (1, 2, 3), 29]\n",
      "[2, True, 'str', [0, 1, 2], (1, 2, 3), 29]\n",
      "[2, True, 'str', [0, 1, 2], (1, 2, 3), 529]\n"
     ]
    }
   ],
   "source": [
    "#Create a List\n",
    "lst = [2,9.0,True,\"str\",[0,1,2],(1,2,3)]\n",
    "\n",
    "#adding a new element into the list\n",
    "lst.append(29)\n",
    "print(lst)\n",
    "\n",
    "#removing an element from the list\n",
    "lst.remove(9.0)\n",
    "print(lst)\n",
    "\n",
    "#modifying an element in the list\n",
    "lst[-1]=529\n",
    "print(lst)"
   ]
  },
  {
   "cell_type": "code",
   "execution_count": 15,
   "metadata": {},
   "outputs": [
    {
     "name": "stdout",
     "output_type": "stream",
     "text": [
      "{'First_Store': 'Cloths', 'Second_Store': 'Electronic_Accesaries', 'Third_Store': 'Furniture', 'Forth_Store': 'Grocery', 'Fifth_Store': 'Medical'}\n",
      "{'First_Store': 'Cloths', 'Second_Store': 'Electronic_Accesaries', 'Third_Store': 'Furniture', 'Forth_Store': 'Grocery'}\n",
      "{'First_Store': 'Cloths', 'Second_Store': 'Electronic_Accesaries', 'Third_Store': 'Furniture', 'Forth_Store': 'Books'}\n"
     ]
    }
   ],
   "source": [
    "#Create a Dictionary\n",
    "dict = {'First_Store':\"Cloths\",\n",
    "        'Second_Store':\"Electronic_Accesaries\",\n",
    "        'Third_Store':\"Furniture\",\n",
    "        'Forth_Store':\"Grocery\"\n",
    "        }\n",
    "#adding a new element into the dictionary\n",
    "dict['Fifth_Store']=\"Medical\"\n",
    "print(dict)\n",
    "\n",
    "#removing an element from the dictionary\n",
    "del dict['Fifth_Store']\n",
    "print(dict)\n",
    "\n",
    "#modifying an element in the list\n",
    "dict['Forth_Store']=\"Books\"\n",
    "print(dict)"
   ]
  },
  {
   "cell_type": "code",
   "execution_count": 19,
   "metadata": {},
   "outputs": [
    {
     "name": "stdout",
     "output_type": "stream",
     "text": [
      "{True, 2, 'str', 9.0, (1, 2, 3), 29}\n",
      "{True, 2, 'str', (1, 2, 3), 29}\n"
     ]
    }
   ],
   "source": [
    "#Create a Set\n",
    "set = {2,9.0,True,\"str\",(1,2,3)}\n",
    "\n",
    "#adding a new element into the set\n",
    "set.add(29)\n",
    "print(set)\n",
    "\n",
    "#removing an element from the set\n",
    "set.remove(9.0)\n",
    "print(set)\n",
    "\n",
    "#modifying an element in the set\n",
    "#-------------------------------------------------------\n",
    "#While sets are mutable,The individual elements within the set must be immutable and cannot be changed directly."
   ]
  }
 ],
 "metadata": {
  "kernelspec": {
   "display_name": "Python 3",
   "language": "python",
   "name": "python3"
  },
  "language_info": {
   "codemirror_mode": {
    "name": "ipython",
    "version": 3
   },
   "file_extension": ".py",
   "mimetype": "text/x-python",
   "name": "python",
   "nbconvert_exporter": "python",
   "pygments_lexer": "ipython3",
   "version": "3.12.4"
  }
 },
 "nbformat": 4,
 "nbformat_minor": 2
}
